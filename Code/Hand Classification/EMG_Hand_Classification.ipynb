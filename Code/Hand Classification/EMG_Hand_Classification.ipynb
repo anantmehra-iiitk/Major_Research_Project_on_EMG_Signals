{
  "nbformat": 4,
  "nbformat_minor": 0,
  "metadata": {
    "colab": {
      "name": "Project.ipynb",
      "provenance": [],
      "collapsed_sections": []
    },
    "kernelspec": {
      "name": "python3",
      "display_name": "Python 3"
    },
    "language_info": {
      "name": "python"
    }
  },
  "cells": [
    {
      "cell_type": "code",
      "execution_count": 1,
      "metadata": {
        "id": "JNHIT2loCSCr"
      },
      "outputs": [],
      "source": [
        "import numpy as np # linear algebra\n",
        "import pandas as pd # data processing, CSV file I/O (e.g. pd.read_csv)\n",
        "import matplotlib.pyplot as plt\n",
        "import seaborn as sns\n",
        "from sklearn.model_selection import train_test_split #Split arrays or matrices into random train and test subsets.\n",
        "from sklearn.preprocessing import StandardScaler #Standardize features by removing the mean and scaling to unit variance.\n",
        "from sklearn.ensemble import RandomForestClassifier\n",
        "from sklearn.model_selection import GridSearchCV #Exhaustive search over specified parameter values for an estimator.\n",
        "from sklearn.metrics import accuracy_score, confusion_matrix, plot_confusion_matrix\n",
        "import tensorflow as tf\n",
        "import xgboost as xgb\n",
        "import os"
      ]
    },
    {
      "cell_type": "code",
      "source": [
        "df = pd.read_csv('https://drive.google.com/uc?export=download&id=1Ihj2e31Ipe7X5fnE3V7ntI7nSOOOuOhT')\n",
        "print(df.head())\n",
        "print(df.shape)\n",
        "# print(df.describe)"
      ],
      "metadata": {
        "colab": {
          "base_uri": "https://localhost:8080/"
        },
        "id": "vpoedEylQnJm",
        "outputId": "ed50f2b2-2070-49af-8798-663a4a9c4bbd"
      },
      "execution_count": 11,
      "outputs": [
        {
          "output_type": "stream",
          "name": "stdout",
          "text": [
            "   0.029437  0.051465  0.089432  0.016893  0.014127  0.017735  0.019645  \\\n",
            "0  0.035060  0.025699  0.025286  0.020039  0.012505  0.016996  0.017674   \n",
            "1  0.043982  0.033187  0.071985  0.018900  0.016712  0.025793  0.025291   \n",
            "2  0.032677  0.031038  0.033345  0.020213  0.016290  0.028113  0.027834   \n",
            "3  0.032101  0.029580  0.035939  0.037279  0.014564  0.022579  0.018042   \n",
            "4  0.034332  0.029158  0.027977  0.025456  0.015080  0.023670  0.025631   \n",
            "\n",
            "   0.014079  0.030692  0.052209  ...  2.3516  2  3  6  0  0.1  1  1.1  0.2  \\\n",
            "0  0.014974  0.036073  0.027496  ...  2.3906  3  2  2  2    0  0    1    1   \n",
            "1  0.020268  0.044961  0.034351  ...  2.7813  3  2  4  0    1  2    1    2   \n",
            "2  0.019944  0.033778  0.032369  ...  2.4141  2  1  1  0    0  2    2    1   \n",
            "3  0.015792  0.033035  0.030936  ...  2.3516  2  1  6  4    0  1    0    0   \n",
            "4  0.018851  0.035562  0.030472  ...  2.6641  2  2  1  2    0  2    2    2   \n",
            "\n",
            "   1.2  \n",
            "0    1  \n",
            "1    1  \n",
            "2    1  \n",
            "3    1  \n",
            "4    1  \n",
            "\n",
            "[5 rows x 81 columns]\n",
            "(6822, 81)\n"
          ]
        }
      ]
    },
    {
      "cell_type": "code",
      "source": [
        "x = df.iloc[:,:80].copy()\n",
        "y = df.iloc[:,80].copy()\n",
        "print(x.shape)\n",
        "print(y.shape)\n",
        "x_train, x_test, y_train, y_test = train_test_split(x, y, test_size=0.25, random_state=1)"
      ],
      "metadata": {
        "colab": {
          "base_uri": "https://localhost:8080/"
        },
        "id": "08wlhfmBb2PF",
        "outputId": "3c9771e9-5b28-400d-a14b-ec928e215dfd"
      },
      "execution_count": 3,
      "outputs": [
        {
          "output_type": "stream",
          "name": "stdout",
          "text": [
            "(6822, 80)\n",
            "(6822,)\n"
          ]
        }
      ]
    },
    {
      "cell_type": "code",
      "source": [
        "SC = StandardScaler()\n",
        "x_train = pd.DataFrame(SC.fit_transform(x_train))\n",
        "x_test = pd.DataFrame(SC.transform(x_test))"
      ],
      "metadata": {
        "id": "q72xmqXLuvcV"
      },
      "execution_count": 4,
      "outputs": []
    },
    {
      "cell_type": "code",
      "source": [
        "model_XGB = xgb.XGBClassifier()\n",
        "model_RF = RandomForestClassifier(n_estimators = 100, random_state=1)\n",
        "model_XGB.fit(x_train, y_train)\n",
        "model_RF.fit(x_train, y_train)"
      ],
      "metadata": {
        "colab": {
          "base_uri": "https://localhost:8080/"
        },
        "id": "sFeQrX_Xuh0u",
        "outputId": "137d1bba-8035-46bd-cb46-04b5c0e6cf91"
      },
      "execution_count": 5,
      "outputs": [
        {
          "output_type": "execute_result",
          "data": {
            "text/plain": [
              "RandomForestClassifier(random_state=1)"
            ]
          },
          "metadata": {},
          "execution_count": 5
        }
      ]
    },
    {
      "cell_type": "code",
      "source": [
        "y_pred = model_RF.predict(x_test)\n",
        "y_p = model_XGB.predict(x_test)\n",
        "accuracy = accuracy_score(y_test, [q for q in y_pred])\n",
        "accuracy_p = accuracy_score(y_test, [r for r in y_p])\n",
        "print(\"Accuracy for RF: %.2f%%\" % (accuracy * 100.0))\n",
        "print(\"Accuracy for XGB: %.2f%%\" % (accuracy_p * 100.0))"
      ],
      "metadata": {
        "colab": {
          "base_uri": "https://localhost:8080/"
        },
        "id": "CMDPFx-wuksq",
        "outputId": "5f45a293-7bc1-4178-8a3c-d621e22ccd0c"
      },
      "execution_count": 6,
      "outputs": [
        {
          "output_type": "stream",
          "name": "stdout",
          "text": [
            "Accuracy for RF: 94.37%\n",
            "Accuracy for XGB: 91.56%\n"
          ]
        }
      ]
    },
    {
      "cell_type": "code",
      "source": [
        "inputs = tf.keras.Input(shape=(x.shape[1],))\n",
        "x = tf.keras.layers.Dense(80, activation='relu')(inputs)\n",
        "x = tf.keras.layers.Dropout(0.2)(x)\n",
        "x = tf.keras.layers.Dense(80, activation='relu')(x)\n",
        "x = tf.keras.layers.Dropout(0.2)(x)\n",
        "outputs = tf.keras.layers.Dense(8, activation='softmax')(x)\n",
        "\n",
        "model_cnn = tf.keras.Model(inputs, outputs)"
      ],
      "metadata": {
        "id": "mWk5Kdde0jP7"
      },
      "execution_count": 7,
      "outputs": []
    },
    {
      "cell_type": "code",
      "source": [
        "model_cnn.compile(\n",
        "    optimizer='adam',\n",
        "    loss='sparse_categorical_crossentropy',\n",
        "    metrics=['accuracy']\n",
        ")\n",
        "\n",
        "batch_size = 32\n",
        "epochs = 100\n",
        "\n",
        "history = model_cnn.fit(\n",
        "    x_train,\n",
        "    y_train,\n",
        "    validation_split=0.2,\n",
        "    batch_size=batch_size,\n",
        "    epochs=epochs,\n",
        "    callbacks=[\n",
        "        tf.keras.callbacks.ReduceLROnPlateau()\n",
        "    ]\n",
        ")"
      ],
      "metadata": {
        "colab": {
          "base_uri": "https://localhost:8080/"
        },
        "id": "JapG3igj0kL7",
        "outputId": "513fd26f-dc16-4cdb-bd09-5db08117694b"
      },
      "execution_count": 8,
      "outputs": [
        {
          "output_type": "stream",
          "name": "stdout",
          "text": [
            "Epoch 1/100\n",
            "128/128 [==============================] - 3s 9ms/step - loss: 1.0805 - accuracy: 0.6175 - val_loss: 0.5552 - val_accuracy: 0.8242 - lr: 0.0010\n",
            "Epoch 2/100\n",
            "128/128 [==============================] - 1s 6ms/step - loss: 0.6069 - accuracy: 0.7835 - val_loss: 0.4209 - val_accuracy: 0.8496 - lr: 0.0010\n",
            "Epoch 3/100\n",
            "128/128 [==============================] - 1s 5ms/step - loss: 0.4957 - accuracy: 0.8248 - val_loss: 0.3634 - val_accuracy: 0.8682 - lr: 0.0010\n",
            "Epoch 4/100\n",
            "128/128 [==============================] - 1s 4ms/step - loss: 0.4584 - accuracy: 0.8350 - val_loss: 0.3342 - val_accuracy: 0.8828 - lr: 0.0010\n",
            "Epoch 5/100\n",
            "128/128 [==============================] - 1s 4ms/step - loss: 0.4088 - accuracy: 0.8587 - val_loss: 0.3142 - val_accuracy: 0.8906 - lr: 0.0010\n",
            "Epoch 6/100\n",
            "128/128 [==============================] - 1s 5ms/step - loss: 0.3508 - accuracy: 0.8759 - val_loss: 0.2885 - val_accuracy: 0.8945 - lr: 0.0010\n",
            "Epoch 7/100\n",
            "128/128 [==============================] - 1s 6ms/step - loss: 0.3488 - accuracy: 0.8781 - val_loss: 0.2666 - val_accuracy: 0.9004 - lr: 0.0010\n",
            "Epoch 8/100\n",
            "128/128 [==============================] - 1s 5ms/step - loss: 0.3236 - accuracy: 0.8883 - val_loss: 0.2541 - val_accuracy: 0.9043 - lr: 0.0010\n",
            "Epoch 9/100\n",
            "128/128 [==============================] - 1s 4ms/step - loss: 0.3113 - accuracy: 0.8910 - val_loss: 0.2516 - val_accuracy: 0.9014 - lr: 0.0010\n",
            "Epoch 10/100\n",
            "128/128 [==============================] - 1s 5ms/step - loss: 0.2835 - accuracy: 0.8978 - val_loss: 0.2470 - val_accuracy: 0.9072 - lr: 0.0010\n",
            "Epoch 11/100\n",
            "128/128 [==============================] - 1s 8ms/step - loss: 0.2688 - accuracy: 0.9096 - val_loss: 0.2396 - val_accuracy: 0.9082 - lr: 0.0010\n",
            "Epoch 12/100\n",
            "128/128 [==============================] - 1s 5ms/step - loss: 0.2660 - accuracy: 0.9086 - val_loss: 0.2353 - val_accuracy: 0.9131 - lr: 0.0010\n",
            "Epoch 13/100\n",
            "128/128 [==============================] - 0s 2ms/step - loss: 0.2404 - accuracy: 0.9142 - val_loss: 0.2457 - val_accuracy: 0.9102 - lr: 0.0010\n",
            "Epoch 14/100\n",
            "128/128 [==============================] - 0s 2ms/step - loss: 0.2405 - accuracy: 0.9208 - val_loss: 0.2213 - val_accuracy: 0.9199 - lr: 0.0010\n",
            "Epoch 15/100\n",
            "128/128 [==============================] - 0s 2ms/step - loss: 0.2277 - accuracy: 0.9242 - val_loss: 0.2261 - val_accuracy: 0.9131 - lr: 0.0010\n",
            "Epoch 16/100\n",
            "128/128 [==============================] - 0s 3ms/step - loss: 0.2275 - accuracy: 0.9225 - val_loss: 0.2102 - val_accuracy: 0.9248 - lr: 0.0010\n",
            "Epoch 17/100\n",
            "128/128 [==============================] - 0s 2ms/step - loss: 0.2241 - accuracy: 0.9225 - val_loss: 0.2193 - val_accuracy: 0.9229 - lr: 0.0010\n",
            "Epoch 18/100\n",
            "128/128 [==============================] - 0s 2ms/step - loss: 0.2111 - accuracy: 0.9238 - val_loss: 0.2177 - val_accuracy: 0.9170 - lr: 0.0010\n",
            "Epoch 19/100\n",
            "128/128 [==============================] - 0s 3ms/step - loss: 0.2098 - accuracy: 0.9262 - val_loss: 0.2059 - val_accuracy: 0.9238 - lr: 0.0010\n",
            "Epoch 20/100\n",
            "128/128 [==============================] - 0s 2ms/step - loss: 0.2077 - accuracy: 0.9286 - val_loss: 0.1946 - val_accuracy: 0.9336 - lr: 0.0010\n",
            "Epoch 21/100\n",
            "128/128 [==============================] - 0s 2ms/step - loss: 0.1896 - accuracy: 0.9345 - val_loss: 0.1938 - val_accuracy: 0.9326 - lr: 0.0010\n",
            "Epoch 22/100\n",
            "128/128 [==============================] - 0s 3ms/step - loss: 0.1899 - accuracy: 0.9372 - val_loss: 0.2026 - val_accuracy: 0.9238 - lr: 0.0010\n",
            "Epoch 23/100\n",
            "128/128 [==============================] - 0s 2ms/step - loss: 0.1777 - accuracy: 0.9382 - val_loss: 0.1975 - val_accuracy: 0.9277 - lr: 0.0010\n",
            "Epoch 24/100\n",
            "128/128 [==============================] - 0s 2ms/step - loss: 0.1923 - accuracy: 0.9352 - val_loss: 0.1998 - val_accuracy: 0.9307 - lr: 0.0010\n",
            "Epoch 25/100\n",
            "128/128 [==============================] - 0s 2ms/step - loss: 0.1721 - accuracy: 0.9413 - val_loss: 0.1998 - val_accuracy: 0.9277 - lr: 0.0010\n",
            "Epoch 26/100\n",
            "128/128 [==============================] - 0s 3ms/step - loss: 0.1721 - accuracy: 0.9365 - val_loss: 0.1990 - val_accuracy: 0.9307 - lr: 0.0010\n",
            "Epoch 27/100\n",
            "128/128 [==============================] - 0s 2ms/step - loss: 0.1671 - accuracy: 0.9406 - val_loss: 0.2070 - val_accuracy: 0.9277 - lr: 0.0010\n",
            "Epoch 28/100\n",
            "128/128 [==============================] - 0s 2ms/step - loss: 0.1657 - accuracy: 0.9435 - val_loss: 0.1896 - val_accuracy: 0.9326 - lr: 0.0010\n",
            "Epoch 29/100\n",
            "128/128 [==============================] - 0s 2ms/step - loss: 0.1688 - accuracy: 0.9460 - val_loss: 0.1894 - val_accuracy: 0.9355 - lr: 0.0010\n",
            "Epoch 30/100\n",
            "128/128 [==============================] - 0s 3ms/step - loss: 0.1563 - accuracy: 0.9487 - val_loss: 0.1822 - val_accuracy: 0.9404 - lr: 0.0010\n",
            "Epoch 31/100\n",
            "128/128 [==============================] - 0s 2ms/step - loss: 0.1567 - accuracy: 0.9475 - val_loss: 0.1855 - val_accuracy: 0.9365 - lr: 0.0010\n",
            "Epoch 32/100\n",
            "128/128 [==============================] - 0s 2ms/step - loss: 0.1378 - accuracy: 0.9536 - val_loss: 0.1870 - val_accuracy: 0.9355 - lr: 0.0010\n",
            "Epoch 33/100\n",
            "128/128 [==============================] - 0s 2ms/step - loss: 0.1429 - accuracy: 0.9465 - val_loss: 0.1846 - val_accuracy: 0.9453 - lr: 0.0010\n",
            "Epoch 34/100\n",
            "128/128 [==============================] - 0s 3ms/step - loss: 0.1502 - accuracy: 0.9519 - val_loss: 0.1911 - val_accuracy: 0.9326 - lr: 0.0010\n",
            "Epoch 35/100\n",
            "128/128 [==============================] - 0s 2ms/step - loss: 0.1464 - accuracy: 0.9545 - val_loss: 0.1789 - val_accuracy: 0.9355 - lr: 0.0010\n",
            "Epoch 36/100\n",
            "128/128 [==============================] - 0s 2ms/step - loss: 0.1341 - accuracy: 0.9548 - val_loss: 0.1813 - val_accuracy: 0.9336 - lr: 0.0010\n",
            "Epoch 37/100\n",
            "128/128 [==============================] - 0s 2ms/step - loss: 0.1386 - accuracy: 0.9543 - val_loss: 0.1728 - val_accuracy: 0.9395 - lr: 0.0010\n",
            "Epoch 38/100\n",
            "128/128 [==============================] - 0s 2ms/step - loss: 0.1435 - accuracy: 0.9497 - val_loss: 0.1867 - val_accuracy: 0.9355 - lr: 0.0010\n",
            "Epoch 39/100\n",
            "128/128 [==============================] - 0s 2ms/step - loss: 0.1356 - accuracy: 0.9519 - val_loss: 0.1775 - val_accuracy: 0.9385 - lr: 0.0010\n",
            "Epoch 40/100\n",
            "128/128 [==============================] - 0s 2ms/step - loss: 0.1186 - accuracy: 0.9572 - val_loss: 0.1882 - val_accuracy: 0.9346 - lr: 0.0010\n",
            "Epoch 41/100\n",
            "128/128 [==============================] - 0s 2ms/step - loss: 0.1246 - accuracy: 0.9582 - val_loss: 0.1649 - val_accuracy: 0.9365 - lr: 0.0010\n",
            "Epoch 42/100\n",
            "128/128 [==============================] - 0s 3ms/step - loss: 0.1194 - accuracy: 0.9592 - val_loss: 0.1763 - val_accuracy: 0.9365 - lr: 0.0010\n",
            "Epoch 43/100\n",
            "128/128 [==============================] - 0s 2ms/step - loss: 0.1228 - accuracy: 0.9577 - val_loss: 0.1642 - val_accuracy: 0.9434 - lr: 0.0010\n",
            "Epoch 44/100\n",
            "128/128 [==============================] - 0s 2ms/step - loss: 0.1095 - accuracy: 0.9641 - val_loss: 0.1723 - val_accuracy: 0.9365 - lr: 0.0010\n",
            "Epoch 45/100\n",
            "128/128 [==============================] - 0s 2ms/step - loss: 0.1139 - accuracy: 0.9633 - val_loss: 0.1793 - val_accuracy: 0.9443 - lr: 0.0010\n",
            "Epoch 46/100\n",
            "128/128 [==============================] - 0s 2ms/step - loss: 0.1170 - accuracy: 0.9611 - val_loss: 0.1613 - val_accuracy: 0.9414 - lr: 0.0010\n",
            "Epoch 47/100\n",
            "128/128 [==============================] - 0s 2ms/step - loss: 0.1157 - accuracy: 0.9643 - val_loss: 0.1761 - val_accuracy: 0.9375 - lr: 0.0010\n",
            "Epoch 48/100\n",
            "128/128 [==============================] - 0s 2ms/step - loss: 0.1081 - accuracy: 0.9638 - val_loss: 0.1746 - val_accuracy: 0.9385 - lr: 0.0010\n",
            "Epoch 49/100\n",
            "128/128 [==============================] - 0s 3ms/step - loss: 0.1174 - accuracy: 0.9597 - val_loss: 0.1944 - val_accuracy: 0.9355 - lr: 0.0010\n",
            "Epoch 50/100\n",
            "128/128 [==============================] - 0s 2ms/step - loss: 0.1080 - accuracy: 0.9614 - val_loss: 0.1627 - val_accuracy: 0.9414 - lr: 0.0010\n",
            "Epoch 51/100\n",
            "128/128 [==============================] - 0s 3ms/step - loss: 0.1038 - accuracy: 0.9660 - val_loss: 0.1730 - val_accuracy: 0.9443 - lr: 0.0010\n",
            "Epoch 52/100\n",
            "128/128 [==============================] - 0s 2ms/step - loss: 0.1135 - accuracy: 0.9585 - val_loss: 0.1754 - val_accuracy: 0.9443 - lr: 0.0010\n",
            "Epoch 53/100\n",
            "128/128 [==============================] - 0s 2ms/step - loss: 0.0996 - accuracy: 0.9692 - val_loss: 0.1702 - val_accuracy: 0.9482 - lr: 0.0010\n",
            "Epoch 54/100\n",
            "128/128 [==============================] - 0s 2ms/step - loss: 0.1099 - accuracy: 0.9602 - val_loss: 0.1829 - val_accuracy: 0.9375 - lr: 0.0010\n",
            "Epoch 55/100\n",
            "128/128 [==============================] - 0s 2ms/step - loss: 0.1042 - accuracy: 0.9648 - val_loss: 0.1696 - val_accuracy: 0.9424 - lr: 0.0010\n",
            "Epoch 56/100\n",
            "128/128 [==============================] - 0s 3ms/step - loss: 0.0994 - accuracy: 0.9619 - val_loss: 0.1664 - val_accuracy: 0.9463 - lr: 0.0010\n",
            "Epoch 57/100\n",
            "128/128 [==============================] - 0s 2ms/step - loss: 0.0953 - accuracy: 0.9695 - val_loss: 0.1612 - val_accuracy: 0.9512 - lr: 1.0000e-04\n",
            "Epoch 58/100\n",
            "128/128 [==============================] - 0s 2ms/step - loss: 0.0874 - accuracy: 0.9692 - val_loss: 0.1616 - val_accuracy: 0.9492 - lr: 1.0000e-04\n",
            "Epoch 59/100\n",
            "128/128 [==============================] - 0s 3ms/step - loss: 0.0739 - accuracy: 0.9761 - val_loss: 0.1623 - val_accuracy: 0.9482 - lr: 1.0000e-04\n",
            "Epoch 60/100\n",
            "128/128 [==============================] - 0s 2ms/step - loss: 0.0800 - accuracy: 0.9721 - val_loss: 0.1603 - val_accuracy: 0.9492 - lr: 1.0000e-04\n",
            "Epoch 61/100\n",
            "128/128 [==============================] - 0s 3ms/step - loss: 0.0746 - accuracy: 0.9746 - val_loss: 0.1612 - val_accuracy: 0.9473 - lr: 1.0000e-04\n",
            "Epoch 62/100\n",
            "128/128 [==============================] - 0s 2ms/step - loss: 0.0759 - accuracy: 0.9726 - val_loss: 0.1611 - val_accuracy: 0.9482 - lr: 1.0000e-04\n",
            "Epoch 63/100\n",
            "128/128 [==============================] - 0s 3ms/step - loss: 0.0905 - accuracy: 0.9695 - val_loss: 0.1606 - val_accuracy: 0.9482 - lr: 1.0000e-04\n",
            "Epoch 64/100\n",
            "128/128 [==============================] - 0s 3ms/step - loss: 0.0712 - accuracy: 0.9792 - val_loss: 0.1603 - val_accuracy: 0.9482 - lr: 1.0000e-04\n",
            "Epoch 65/100\n",
            "128/128 [==============================] - 0s 2ms/step - loss: 0.0768 - accuracy: 0.9726 - val_loss: 0.1599 - val_accuracy: 0.9492 - lr: 1.0000e-04\n",
            "Epoch 66/100\n",
            "128/128 [==============================] - 0s 3ms/step - loss: 0.0767 - accuracy: 0.9746 - val_loss: 0.1604 - val_accuracy: 0.9502 - lr: 1.0000e-04\n",
            "Epoch 67/100\n",
            "128/128 [==============================] - 0s 3ms/step - loss: 0.0816 - accuracy: 0.9702 - val_loss: 0.1613 - val_accuracy: 0.9492 - lr: 1.0000e-04\n",
            "Epoch 68/100\n",
            "128/128 [==============================] - 0s 2ms/step - loss: 0.0696 - accuracy: 0.9751 - val_loss: 0.1604 - val_accuracy: 0.9512 - lr: 1.0000e-04\n",
            "Epoch 69/100\n",
            "128/128 [==============================] - 0s 3ms/step - loss: 0.0755 - accuracy: 0.9748 - val_loss: 0.1597 - val_accuracy: 0.9502 - lr: 1.0000e-04\n",
            "Epoch 70/100\n",
            "128/128 [==============================] - 0s 2ms/step - loss: 0.0703 - accuracy: 0.9775 - val_loss: 0.1591 - val_accuracy: 0.9521 - lr: 1.0000e-04\n",
            "Epoch 71/100\n",
            "128/128 [==============================] - 0s 2ms/step - loss: 0.0773 - accuracy: 0.9761 - val_loss: 0.1599 - val_accuracy: 0.9502 - lr: 1.0000e-04\n",
            "Epoch 72/100\n",
            "128/128 [==============================] - 0s 2ms/step - loss: 0.0709 - accuracy: 0.9783 - val_loss: 0.1627 - val_accuracy: 0.9512 - lr: 1.0000e-04\n",
            "Epoch 73/100\n",
            "128/128 [==============================] - 0s 2ms/step - loss: 0.0628 - accuracy: 0.9797 - val_loss: 0.1614 - val_accuracy: 0.9512 - lr: 1.0000e-04\n",
            "Epoch 74/100\n",
            "128/128 [==============================] - 0s 3ms/step - loss: 0.0645 - accuracy: 0.9787 - val_loss: 0.1626 - val_accuracy: 0.9473 - lr: 1.0000e-04\n",
            "Epoch 75/100\n",
            "128/128 [==============================] - 0s 2ms/step - loss: 0.0720 - accuracy: 0.9743 - val_loss: 0.1625 - val_accuracy: 0.9502 - lr: 1.0000e-04\n",
            "Epoch 76/100\n",
            "128/128 [==============================] - 0s 3ms/step - loss: 0.0740 - accuracy: 0.9763 - val_loss: 0.1622 - val_accuracy: 0.9482 - lr: 1.0000e-04\n",
            "Epoch 77/100\n",
            "128/128 [==============================] - 0s 3ms/step - loss: 0.0750 - accuracy: 0.9729 - val_loss: 0.1614 - val_accuracy: 0.9512 - lr: 1.0000e-04\n",
            "Epoch 78/100\n",
            "128/128 [==============================] - 0s 2ms/step - loss: 0.0717 - accuracy: 0.9792 - val_loss: 0.1611 - val_accuracy: 0.9482 - lr: 1.0000e-04\n",
            "Epoch 79/100\n",
            "128/128 [==============================] - 0s 2ms/step - loss: 0.0676 - accuracy: 0.9785 - val_loss: 0.1611 - val_accuracy: 0.9473 - lr: 1.0000e-04\n",
            "Epoch 80/100\n",
            "128/128 [==============================] - 0s 2ms/step - loss: 0.0651 - accuracy: 0.9778 - val_loss: 0.1608 - val_accuracy: 0.9502 - lr: 1.0000e-04\n",
            "Epoch 81/100\n",
            "128/128 [==============================] - 0s 2ms/step - loss: 0.0692 - accuracy: 0.9778 - val_loss: 0.1608 - val_accuracy: 0.9502 - lr: 1.0000e-05\n",
            "Epoch 82/100\n",
            "128/128 [==============================] - 0s 2ms/step - loss: 0.0730 - accuracy: 0.9761 - val_loss: 0.1609 - val_accuracy: 0.9512 - lr: 1.0000e-05\n",
            "Epoch 83/100\n",
            "128/128 [==============================] - 0s 2ms/step - loss: 0.0656 - accuracy: 0.9785 - val_loss: 0.1610 - val_accuracy: 0.9502 - lr: 1.0000e-05\n",
            "Epoch 84/100\n",
            "128/128 [==============================] - 0s 2ms/step - loss: 0.0690 - accuracy: 0.9778 - val_loss: 0.1608 - val_accuracy: 0.9502 - lr: 1.0000e-05\n",
            "Epoch 85/100\n",
            "128/128 [==============================] - 0s 3ms/step - loss: 0.0733 - accuracy: 0.9756 - val_loss: 0.1610 - val_accuracy: 0.9502 - lr: 1.0000e-05\n",
            "Epoch 86/100\n",
            "128/128 [==============================] - 0s 3ms/step - loss: 0.0641 - accuracy: 0.9797 - val_loss: 0.1610 - val_accuracy: 0.9502 - lr: 1.0000e-05\n",
            "Epoch 87/100\n",
            "128/128 [==============================] - 0s 2ms/step - loss: 0.0673 - accuracy: 0.9795 - val_loss: 0.1611 - val_accuracy: 0.9512 - lr: 1.0000e-05\n",
            "Epoch 88/100\n",
            "128/128 [==============================] - 0s 3ms/step - loss: 0.0660 - accuracy: 0.9783 - val_loss: 0.1614 - val_accuracy: 0.9512 - lr: 1.0000e-05\n",
            "Epoch 89/100\n",
            "128/128 [==============================] - 0s 3ms/step - loss: 0.0690 - accuracy: 0.9807 - val_loss: 0.1614 - val_accuracy: 0.9512 - lr: 1.0000e-05\n",
            "Epoch 90/100\n",
            "128/128 [==============================] - 0s 3ms/step - loss: 0.0681 - accuracy: 0.9790 - val_loss: 0.1613 - val_accuracy: 0.9512 - lr: 1.0000e-05\n",
            "Epoch 91/100\n",
            "128/128 [==============================] - 0s 3ms/step - loss: 0.0634 - accuracy: 0.9790 - val_loss: 0.1612 - val_accuracy: 0.9512 - lr: 1.0000e-06\n",
            "Epoch 92/100\n",
            "128/128 [==============================] - 0s 2ms/step - loss: 0.0650 - accuracy: 0.9787 - val_loss: 0.1613 - val_accuracy: 0.9512 - lr: 1.0000e-06\n",
            "Epoch 93/100\n",
            "128/128 [==============================] - 0s 2ms/step - loss: 0.0657 - accuracy: 0.9790 - val_loss: 0.1612 - val_accuracy: 0.9512 - lr: 1.0000e-06\n",
            "Epoch 94/100\n",
            "128/128 [==============================] - 0s 2ms/step - loss: 0.0702 - accuracy: 0.9756 - val_loss: 0.1612 - val_accuracy: 0.9512 - lr: 1.0000e-06\n",
            "Epoch 95/100\n",
            "128/128 [==============================] - 0s 2ms/step - loss: 0.0709 - accuracy: 0.9741 - val_loss: 0.1612 - val_accuracy: 0.9512 - lr: 1.0000e-06\n",
            "Epoch 96/100\n",
            "128/128 [==============================] - 0s 2ms/step - loss: 0.0679 - accuracy: 0.9790 - val_loss: 0.1612 - val_accuracy: 0.9512 - lr: 1.0000e-06\n",
            "Epoch 97/100\n",
            "128/128 [==============================] - 0s 3ms/step - loss: 0.0779 - accuracy: 0.9739 - val_loss: 0.1612 - val_accuracy: 0.9512 - lr: 1.0000e-06\n",
            "Epoch 98/100\n",
            "128/128 [==============================] - 0s 2ms/step - loss: 0.0650 - accuracy: 0.9790 - val_loss: 0.1612 - val_accuracy: 0.9512 - lr: 1.0000e-06\n",
            "Epoch 99/100\n",
            "128/128 [==============================] - 0s 2ms/step - loss: 0.0686 - accuracy: 0.9797 - val_loss: 0.1612 - val_accuracy: 0.9512 - lr: 1.0000e-06\n",
            "Epoch 100/100\n",
            "128/128 [==============================] - 0s 2ms/step - loss: 0.0689 - accuracy: 0.9795 - val_loss: 0.1612 - val_accuracy: 0.9512 - lr: 1.0000e-06\n"
          ]
        }
      ]
    },
    {
      "cell_type": "code",
      "source": [
        "plt.plot(range(epochs), history.history['loss'], label=\"Training Loss\")\n",
        "plt.plot(range(epochs), history.history['val_loss'], label=\"Validation Loss\")\n",
        "\n",
        "plt.xlabel(\"Epoch\")\n",
        "plt.ylabel(\"Loss\")\n",
        "plt.legend()\n",
        "plt.title(\"Loss Over Time\")\n",
        "\n",
        "plt.show()"
      ],
      "metadata": {
        "colab": {
          "base_uri": "https://localhost:8080/",
          "height": 295
        },
        "id": "MZrhxZtH0rYU",
        "outputId": "a660aeb9-fd63-4e7b-c28b-55673c0c1f3f"
      },
      "execution_count": 9,
      "outputs": [
        {
          "output_type": "display_data",
          "data": {
            "text/plain": [
              "<Figure size 432x288 with 1 Axes>"
            ],
            "image/png": "[encoded data removed]"
          },
          "metadata": {
            "needs_background": "light"
          }
        }
      ]
    },
    {
      "cell_type": "code",
      "source": [
        "y_true = np.array(y_test)\n",
        "y_pred = np.array(model_RF.predict(x_test))\n",
        "y_pred_xgb = np.array(model_XGB.predict(x_test))\n",
        "\n",
        "cm = confusion_matrix(y_true, y_pred)\n",
        "cm_xgb = confusion_matrix(y_true, y_pred_xgb)\n",
        "plt.figure(figsize = (15,8))\n",
        "sns.heatmap(cm, annot=True, fmt='g', cmap='gist_heat', cbar=True)\n",
        "plt.xlabel(\"Predicted\")\n",
        "plt.ylabel(\"Actual\")\n",
        "plt.title(\"Confusion Matrix for RF\")\n",
        "plt.show()\n",
        "plt.figure(figsize = (15,8))\n",
        "sns.heatmap(cm_xgb, annot=True, fmt='g', cmap='gist_heat',cbar=True)\n",
        "plt.xlabel(\"Predicted\")\n",
        "plt.ylabel(\"Actual\")\n",
        "plt.title(\"Confusion Matrix for XGB\")\n",
        "plt.show()"
      ],
      "metadata": {
        "id": "oeLhVEfKu6wg",
        "colab": {
          "base_uri": "https://localhost:8080/",
          "height": 1000
        },
        "outputId": "03d12bdd-38a9-43ad-9f88-4d6551eb8d71"
      },
      "execution_count": 10,
      "outputs": [
        {
          "output_type": "display_data",
          "data": {
            "text/plain": [
              "<Figure size 1080x576 with 2 Axes>"
            ],
            "image/png": "[encoded data removed]"
          },
          "metadata": {
            "needs_background": "light"
          }
        },
        {
          "output_type": "display_data",
          "data": {
            "text/plain": [
              "<Figure size 1080x576 with 2 Axes>"
            ],
            "image/png": "[encoded data removed]"
          },
          "metadata": {
            "needs_background": "light"
          }
        }
      ]
    }
  ]
}